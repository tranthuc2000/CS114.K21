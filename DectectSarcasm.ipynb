{
  "nbformat": 4,
  "nbformat_minor": 0,
  "metadata": {
    "colab": {
      "name": "DectectSarcasm.ipynb",
      "provenance": [],
      "collapsed_sections": [],
      "include_colab_link": true
    },
    "kernelspec": {
      "name": "python3",
      "display_name": "Python 3"
    }
  },
  "cells": [
    {
      "cell_type": "markdown",
      "metadata": {
        "id": "view-in-github",
        "colab_type": "text"
      },
      "source": [
        "<a href=\"https://colab.research.google.com/github/tranthuc2000/CS114.K21/blob/master/DectectSarcasm.ipynb\" target=\"_parent\"><img src=\"https://colab.research.google.com/assets/colab-badge.svg\" alt=\"Open In Colab\"/></a>"
      ]
    },
    {
      "cell_type": "markdown",
      "metadata": {
        "id": "RSpv9phU29EN",
        "colab_type": "text"
      },
      "source": [
        "**CASE STYDY: Sarcasm Detection**\n",
        "\n",
        "Nhóm:\n",
        "\n",
        "\n",
        "1.   Trần Quốc Toàn : 18520384\n",
        "1.   Nguyễn Tri Đức Anh : 18520463\n",
        "2.   Trần Văn Thục : 18521474\n",
        "\n",
        "\n",
        "\n"
      ]
    },
    {
      "cell_type": "markdown",
      "metadata": {
        "id": "UZ5yV2kQ3uGF",
        "colab_type": "text"
      },
      "source": [
        "## **Mô tả bài toán: phát hiện tin châm biếm**\n",
        "Dataset được lấy từ 2 trang báo: \n",
        "\n",
        "\n",
        "*   HuffPost: chuyên viết tin chính thống.\n",
        "*   The Onion: chuyên viết tin châm biếm\n",
        "\n",
        "Dataset bao gồm 3 colums:\n",
        "1.   headline : tiêu đề bài báo\n",
        "2.   is_sacastic : là tin chính thống hay châm biếm \n",
        "3.   article_link : link bài báo\n"
      ]
    },
    {
      "cell_type": "markdown",
      "metadata": {
        "id": "cRqXd3eMdSQD",
        "colab_type": "text"
      },
      "source": [
        "Cào dữ liệu dataset.csv bằng Data Scraper - Easy Web Scraping trên chrome extention \n",
        "Link file:https://github.com/tranthuc2000/CS114.K21/blob/master/datatest.csv\n",
        "\n",
        "Link tiện ích:https://chrome.google.com/webstore/detail/data-scraper-easy-web-scr/nndknepjnldbdbepjfgmncbggmopgden"
      ]
    },
    {
      "cell_type": "markdown",
      "metadata": {
        "id": "eeWfa9rFysoA",
        "colab_type": "text"
      },
      "source": [
        "**Import thư viện để liên kết với drive**"
      ]
    },
    {
      "cell_type": "code",
      "metadata": {
        "id": "AsV2qKxbp5jr",
        "colab_type": "code",
        "colab": {
          "base_uri": "https://localhost:8080/",
          "height": 33
        },
        "outputId": "cddcc14d-d79a-4a52-d249-e23313241d1e"
      },
      "source": [
        "from google.colab import drive\n",
        "drive.mount('/content/drive')"
      ],
      "execution_count": null,
      "outputs": [
        {
          "output_type": "stream",
          "text": [
            "Drive already mounted at /content/drive; to attempt to forcibly remount, call drive.mount(\"/content/drive\", force_remount=True).\n"
          ],
          "name": "stdout"
        }
      ]
    },
    {
      "cell_type": "markdown",
      "metadata": {
        "id": "77qFG0Vd2uJZ",
        "colab_type": "text"
      },
      "source": [
        "mình đang có gì trong thư mục hiện tại\n",
        "\n"
      ]
    },
    {
      "cell_type": "code",
      "metadata": {
        "id": "Ds5ZL_RRsdmg",
        "colab_type": "code",
        "colab": {
          "base_uri": "https://localhost:8080/",
          "height": 50
        },
        "outputId": "e98b8aac-c22e-48a7-bd4e-0f97035b151a"
      },
      "source": [
        "ls"
      ],
      "execution_count": null,
      "outputs": [
        {
          "output_type": "stream",
          "text": [
            "\u001b[0m\u001b[01;34mdrive\u001b[0m/        Sarcasm_Headlines_Dataset.json\n",
            "\u001b[01;34msample_data\u001b[0m/  Sarcasm_Headlines_Dataset_v2.json\n"
          ],
          "name": "stdout"
        }
      ]
    },
    {
      "cell_type": "code",
      "metadata": {
        "id": "ttxSymuy0ZK3",
        "colab_type": "code",
        "colab": {
          "base_uri": "https://localhost:8080/",
          "height": 66
        },
        "outputId": "56d260f9-08fc-4b4a-a355-bca253032459"
      },
      "source": [
        "#giải nén dataset\n",
        "!unzip 'drive/My Drive/detectsarcasm/news-headlines-dataset-for-sarcasm-detection.zip'"
      ],
      "execution_count": null,
      "outputs": [
        {
          "output_type": "stream",
          "text": [
            "Archive:  drive/My Drive/detectsarcasm/news-headlines-dataset-for-sarcasm-detection.zip\n",
            "replace Sarcasm_Headlines_Dataset.json? [y]es, [n]o, [A]ll, [N]one, [r]ename: n\n",
            "replace Sarcasm_Headlines_Dataset_v2.json? [y]es, [n]o, [A]ll, [N]one, [r]ename: n\n"
          ],
          "name": "stdout"
        }
      ]
    },
    {
      "cell_type": "markdown",
      "metadata": {
        "id": "YWd0Y9SyzLRE",
        "colab_type": "text"
      },
      "source": [
        "**Đọc file rồi gán vào biến dataframe, lệnh lines=True để đọc từng dòng**"
      ]
    },
    {
      "cell_type": "code",
      "metadata": {
        "id": "PAKa_B5s0qXJ",
        "colab_type": "code",
        "colab": {}
      },
      "source": [
        "import pandas as pd\n",
        "df_1 = pd.read_json(\"Sarcasm_Headlines_Dataset.json\",lines=True)"
      ],
      "execution_count": null,
      "outputs": []
    },
    {
      "cell_type": "markdown",
      "metadata": {
        "id": "M_BbnmOP5lEZ",
        "colab_type": "text"
      },
      "source": [
        "**Đọc file test**"
      ]
    },
    {
      "cell_type": "code",
      "metadata": {
        "id": "vDIi63JI0wPU",
        "colab_type": "code",
        "colab": {}
      },
      "source": [
        "df_2 = pd.read_csv(\"drive/My Drive/detectsarcasm/datatest.csv\",)\n",
        "df_2"
      ],
      "execution_count": null,
      "outputs": []
    },
    {
      "cell_type": "code",
      "metadata": {
        "id": "ne1HcOgtWWS1",
        "colab_type": "code",
        "colab": {
          "base_uri": "https://localhost:8080/",
          "height": 342
        },
        "outputId": "bfced380-28b8-4516-9f08-b8e9228e1956"
      },
      "source": [
        "#xem thông tin của df_1 và df_2\n",
        "df_1.info()\n",
        "print(\"                  \")\n",
        "df_2.info()"
      ],
      "execution_count": null,
      "outputs": [
        {
          "output_type": "stream",
          "text": [
            "<class 'pandas.core.frame.DataFrame'>\n",
            "RangeIndex: 26709 entries, 0 to 26708\n",
            "Data columns (total 3 columns):\n",
            " #   Column        Non-Null Count  Dtype \n",
            "---  ------        --------------  ----- \n",
            " 0   article_link  26709 non-null  object\n",
            " 1   headline      26709 non-null  object\n",
            " 2   is_sarcastic  26709 non-null  int64 \n",
            "dtypes: int64(1), object(2)\n",
            "memory usage: 626.1+ KB\n",
            "                  \n",
            "<class 'pandas.core.frame.DataFrame'>\n",
            "RangeIndex: 1937 entries, 0 to 1936\n",
            "Data columns (total 2 columns):\n",
            " #   Column        Non-Null Count  Dtype \n",
            "---  ------        --------------  ----- \n",
            " 0   Headline      1937 non-null   object\n",
            " 1   Is_sarcastic  1937 non-null   int64 \n",
            "dtypes: int64(1), object(1)\n",
            "memory usage: 30.4+ KB\n"
          ],
          "name": "stdout"
        }
      ]
    },
    {
      "cell_type": "markdown",
      "metadata": {
        "id": "Fi7YxfXrxzUC",
        "colab_type": "text"
      },
      "source": [
        "**Xóa bỏ cột article link trong dataset, vì chỉ dùng cột headline và is_sarcastic**\n"
      ]
    },
    {
      "cell_type": "code",
      "metadata": {
        "id": "RBZaMUg-4MuS",
        "colab_type": "code",
        "colab": {}
      },
      "source": [
        "df_1=df_1.drop(labels=\"article_link\",axis=1)"
      ],
      "execution_count": null,
      "outputs": []
    },
    {
      "cell_type": "markdown",
      "metadata": {
        "id": "LksE8i_lyEAH",
        "colab_type": "text"
      },
      "source": [
        "tải về tệp tin giúp cho việc loại bỏ các thứ không quan trọng như dấu câu,...\n",
        "\n",
        "Chạy vòng lập ép kiểu dữ liệu thành string để thao tác sau này tránh bị lỗi"
      ]
    },
    {
      "cell_type": "code",
      "metadata": {
        "id": "APZzUSrnug3O",
        "colab_type": "code",
        "colab": {
          "base_uri": "https://localhost:8080/",
          "height": 98
        },
        "outputId": "125b35d2-7676-430a-98ce-2c2b64d39d35"
      },
      "source": [
        "import numpy as np\n",
        "import string \n",
        "from string import digits\n",
        "from string import punctuation\n",
        "import nltk\n",
        "from nltk.corpus import wordnet\n",
        "from nltk.stem import WordNetLemmatizer\n",
        "nltk.download('averaged_perceptron_tagger')\n",
        "nltk.download('wordnet')\n",
        "for i in df_1['headline']:\n",
        "  i = str(i)\n",
        "\n",
        "for a in df_2['Headline']:\n",
        "  a = str(a)"
      ],
      "execution_count": null,
      "outputs": [
        {
          "output_type": "stream",
          "text": [
            "[nltk_data] Downloading package averaged_perceptron_tagger to\n",
            "[nltk_data]     /root/nltk_data...\n",
            "[nltk_data]   Unzipping taggers/averaged_perceptron_tagger.zip.\n",
            "[nltk_data] Downloading package wordnet to /root/nltk_data...\n",
            "[nltk_data]   Unzipping corpora/wordnet.zip.\n"
          ],
          "name": "stdout"
        }
      ]
    },
    {
      "cell_type": "markdown",
      "metadata": {
        "id": "f5Drwkpa6oiV",
        "colab_type": "text"
      },
      "source": [
        "**Xem kết quả sau khi chạy**"
      ]
    },
    {
      "cell_type": "code",
      "metadata": {
        "id": "KqyjM7q2yFoN",
        "colab_type": "code",
        "colab": {
          "base_uri": "https://localhost:8080/",
          "height": 391
        },
        "outputId": "ad75905d-1879-4bd4-db01-027bfaa69e70"
      },
      "source": [
        "df_1"
      ],
      "execution_count": null,
      "outputs": [
        {
          "output_type": "execute_result",
          "data": {
            "text/html": [
              "<div>\n",
              "<style scoped>\n",
              "    .dataframe tbody tr th:only-of-type {\n",
              "        vertical-align: middle;\n",
              "    }\n",
              "\n",
              "    .dataframe tbody tr th {\n",
              "        vertical-align: top;\n",
              "    }\n",
              "\n",
              "    .dataframe thead th {\n",
              "        text-align: right;\n",
              "    }\n",
              "</style>\n",
              "<table border=\"1\" class=\"dataframe\">\n",
              "  <thead>\n",
              "    <tr style=\"text-align: right;\">\n",
              "      <th></th>\n",
              "      <th>headline</th>\n",
              "      <th>is_sarcastic</th>\n",
              "    </tr>\n",
              "  </thead>\n",
              "  <tbody>\n",
              "    <tr>\n",
              "      <th>0</th>\n",
              "      <td>former versace store clerk sues over secret 'b...</td>\n",
              "      <td>0</td>\n",
              "    </tr>\n",
              "    <tr>\n",
              "      <th>1</th>\n",
              "      <td>the 'roseanne' revival catches up to our thorn...</td>\n",
              "      <td>0</td>\n",
              "    </tr>\n",
              "    <tr>\n",
              "      <th>2</th>\n",
              "      <td>mom starting to fear son's web series closest ...</td>\n",
              "      <td>1</td>\n",
              "    </tr>\n",
              "    <tr>\n",
              "      <th>3</th>\n",
              "      <td>boehner just wants wife to listen, not come up...</td>\n",
              "      <td>1</td>\n",
              "    </tr>\n",
              "    <tr>\n",
              "      <th>4</th>\n",
              "      <td>j.k. rowling wishes snape happy birthday in th...</td>\n",
              "      <td>0</td>\n",
              "    </tr>\n",
              "    <tr>\n",
              "      <th>...</th>\n",
              "      <td>...</td>\n",
              "      <td>...</td>\n",
              "    </tr>\n",
              "    <tr>\n",
              "      <th>26704</th>\n",
              "      <td>american politics in moral free-fall</td>\n",
              "      <td>0</td>\n",
              "    </tr>\n",
              "    <tr>\n",
              "      <th>26705</th>\n",
              "      <td>america's best 20 hikes</td>\n",
              "      <td>0</td>\n",
              "    </tr>\n",
              "    <tr>\n",
              "      <th>26706</th>\n",
              "      <td>reparations and obama</td>\n",
              "      <td>0</td>\n",
              "    </tr>\n",
              "    <tr>\n",
              "      <th>26707</th>\n",
              "      <td>israeli ban targeting boycott supporters raise...</td>\n",
              "      <td>0</td>\n",
              "    </tr>\n",
              "    <tr>\n",
              "      <th>26708</th>\n",
              "      <td>gourmet gifts for the foodie 2014</td>\n",
              "      <td>0</td>\n",
              "    </tr>\n",
              "  </tbody>\n",
              "</table>\n",
              "<p>26709 rows × 2 columns</p>\n",
              "</div>"
            ],
            "text/plain": [
              "                                                headline  is_sarcastic\n",
              "0      former versace store clerk sues over secret 'b...             0\n",
              "1      the 'roseanne' revival catches up to our thorn...             0\n",
              "2      mom starting to fear son's web series closest ...             1\n",
              "3      boehner just wants wife to listen, not come up...             1\n",
              "4      j.k. rowling wishes snape happy birthday in th...             0\n",
              "...                                                  ...           ...\n",
              "26704               american politics in moral free-fall             0\n",
              "26705                            america's best 20 hikes             0\n",
              "26706                              reparations and obama             0\n",
              "26707  israeli ban targeting boycott supporters raise...             0\n",
              "26708                  gourmet gifts for the foodie 2014             0\n",
              "\n",
              "[26709 rows x 2 columns]"
            ]
          },
          "metadata": {
            "tags": []
          },
          "execution_count": 17
        }
      ]
    },
    {
      "cell_type": "markdown",
      "metadata": {
        "id": "Fb1ASdV-yfK7",
        "colab_type": "text"
      },
      "source": [
        "# Feature engineering:\n",
        "1. Tách bỏ các dấu câu"
      ]
    },
    {
      "cell_type": "code",
      "metadata": {
        "id": "jS5oizvTyVdG",
        "colab_type": "code",
        "colab": {}
      },
      "source": [
        "hl_clean_1 = []\n",
        "hl_clean_2 = []\n",
        "\n",
        "for i in df_1['headline']:\n",
        "    clean = i.translate(str.maketrans('', '', punctuation))\n",
        "    #xóa kí hiệu đặc biệt như % & '\n",
        "    clean = clean.translate(str.maketrans('', '', digits))\n",
        "    #Xóa số\n",
        "    hl_clean_1.append(clean)\n",
        "\n",
        "for a in df_2['Headline']:\n",
        "    clean = a.translate(str.maketrans('', '', punctuation))\n",
        "    clean = clean.translate(str.maketrans('', '', digits))\n",
        "    hl_clean_2.append(clean)\n"
      ],
      "execution_count": null,
      "outputs": []
    },
    {
      "cell_type": "markdown",
      "metadata": {
        "id": "v2qu6wLPz7EH",
        "colab_type": "text"
      },
      "source": [
        "2. Các headline thành các từ và cụm từ"
      ]
    },
    {
      "cell_type": "code",
      "metadata": {
        "id": "qiKXCDf9ytS9",
        "colab_type": "code",
        "colab": {}
      },
      "source": [
        "hl_tokens_1 = []\n",
        "hl_tokens_2 = []\n",
        "for i in hl_clean_1:\n",
        "  i = i.split()\n",
        "  #tách thành list\n",
        "  hl_tokens_1.append(i)\n",
        "for i in hl_clean_2:\n",
        "  i = i.split()\n",
        "  hl_tokens_2.append(i)  \n"
      ],
      "execution_count": null,
      "outputs": []
    },
    {
      "cell_type": "markdown",
      "metadata": {
        "id": "OENe4vEZ2I6L",
        "colab_type": "text"
      },
      "source": [
        "3. Xác định loại từ"
      ]
    },
    {
      "cell_type": "code",
      "metadata": {
        "id": "GbyuLNEHz7dr",
        "colab_type": "code",
        "colab": {}
      },
      "source": [
        "def get_wordnet_pos(word):\n",
        "    \"\"\"Map POS tag to first character lemmatize() accepts\"\"\"\n",
        "    tag = nltk.pos_tag([word])[0][1][0].upper()\n",
        "    tag_dict = {\"J\": wordnet.ADJ,\n",
        "                \"N\": wordnet.NOUN,\n",
        "                \"V\": wordnet.VERB,\n",
        "                \"R\": wordnet.ADV}\n",
        "\n",
        "    return tag_dict.get(tag, wordnet.NOUN)\n",
        "# Init Lemmatizer 1\n",
        "lemmatizer = WordNetLemmatizer()\n",
        "\n",
        "hl_lemmatized_1 = []\n",
        "for tokens in hl_tokens_1:\n",
        "    lemm = [lemmatizer.lemmatize(w, get_wordnet_pos(w)) for w in tokens]\n",
        "    hl_lemmatized_1.append(lemm)\n",
        "\n",
        " # Init Lemmatizer 2 \n",
        "hl_lemmatized_2 = []\n",
        "for tokens in hl_tokens_2:\n",
        "    lemm = [lemmatizer.lemmatize(w, get_wordnet_pos(w)) for w in tokens]\n",
        "    hl_lemmatized_2.append(lemm)"
      ],
      "execution_count": null,
      "outputs": []
    },
    {
      "cell_type": "markdown",
      "metadata": {
        "id": "d0V3yrZyFLq0",
        "colab_type": "text"
      },
      "source": [
        "Vecto hóa 1 văn bản, giữ lại tối đa 2000 từ(khớp với 2000 headline dùng dể test) để dễ xử lí dữ liệu"
      ]
    },
    {
      "cell_type": "code",
      "metadata": {
        "id": "OIAF2bJn16a8",
        "colab_type": "code",
        "colab": {
          "base_uri": "https://localhost:8080/",
          "height": 33
        },
        "outputId": "747be64a-6da4-49d1-eaa0-2b8f4e5eae6d"
      },
      "source": [
        "from keras.preprocessing.text import Tokenizer\n",
        "from keras.preprocessing import sequence\n",
        "from keras.preprocessing.sequence import pad_sequences\n",
        "import numpy as np\n",
        "max_features = 2000\n",
        "max_token = len (hl_lemmatized_1)\n",
        "tokenizer = Tokenizer (num_words= max_features)\n",
        "tokenizer.fit_on_texts(hl_lemmatized_1)\n",
        "sequences = tokenizer.texts_to_sequences(hl_lemmatized_1)\n",
        "X_train = pad_sequences(sequences, maxlen = max_token)\n",
        "# biến X_train thành dạng vector có dộ dài các vecto(mỗi vecto là 1 headline) có độ dài bằng nhau\n",
        "\n",
        "max_features = 2000\n",
        "max_token = len (hl_lemmatized_1)\n",
        "tokenizer = Tokenizer (num_words= max_features)\n",
        "tokenizer.fit_on_texts(hl_lemmatized_2)\n",
        "sequences = tokenizer.texts_to_sequences(hl_lemmatized_2)\n",
        "X_test = pad_sequences(sequences, maxlen = max_token)\n",
        "#padding giúp các chuỗi trong X_test có độ dài bằng nhau"
      ],
      "execution_count": null,
      "outputs": [
        {
          "output_type": "stream",
          "text": [
            "Using TensorFlow backend.\n"
          ],
          "name": "stderr"
        }
      ]
    },
    {
      "cell_type": "code",
      "metadata": {
        "id": "wcAh-aBz6AY0",
        "colab_type": "code",
        "colab": {
          "base_uri": "https://localhost:8080/",
          "height": 131
        },
        "outputId": "be2df34f-201f-4f90-9aa6-4e253897f149"
      },
      "source": [
        "X_test"
      ],
      "execution_count": null,
      "outputs": [
        {
          "output_type": "execute_result",
          "data": {
            "text/plain": [
              "array([[   0,    0,    0, ...,  962,   11,  132],\n",
              "       [   0,    0,    0, ...,  409,    7,  220],\n",
              "       [   0,    0,    0, ...,   11,  147,  221],\n",
              "       ...,\n",
              "       [   0,    0,    0, ...,   79,   60,   38],\n",
              "       [   0,    0,    0, ...,   29, 1441,    9],\n",
              "       [   0,    0,    0, ...,    1,    5,    4]], dtype=int32)"
            ]
          },
          "metadata": {
            "tags": []
          },
          "execution_count": 23
        }
      ]
    },
    {
      "cell_type": "code",
      "metadata": {
        "id": "qtZUccnO6udD",
        "colab_type": "code",
        "colab": {
          "base_uri": "https://localhost:8080/",
          "height": 131
        },
        "outputId": "f2554c92-b052-4f1a-8712-42c08dce2ab1"
      },
      "source": [
        "Y_train = df_1['is_sarcastic'].values\n",
        "Y_train = np.vstack(Y_train)\n",
        "print (X_train)\n",
        "\n",
        "Y_test = df_2['Is_sarcastic'].values\n",
        "Y_test = np.vstack(Y_test)\n",
        "#biến Y_test thành 1 ma trận"
      ],
      "execution_count": null,
      "outputs": [
        {
          "output_type": "stream",
          "text": [
            "[[   0    0    0 ... 1890    7 1985]\n",
            " [   0    0    0 ...  166    9  145]\n",
            " [   0    0    0 ...   41   14    1]\n",
            " ...\n",
            " [   0    0    0 ...    0    9   73]\n",
            " [   0    0    0 ...  686  715  425]\n",
            " [   0    0    0 ...  432    7    3]]\n"
          ],
          "name": "stdout"
        }
      ]
    },
    {
      "cell_type": "code",
      "metadata": {
        "id": "VEM_m87p9HIl",
        "colab_type": "code",
        "colab": {
          "base_uri": "https://localhost:8080/",
          "height": 33
        },
        "outputId": "53de6c96-367b-4ab6-e0a6-aba035c89fa3"
      },
      "source": [
        "len(X_test)"
      ],
      "execution_count": null,
      "outputs": [
        {
          "output_type": "execute_result",
          "data": {
            "text/plain": [
              "1937"
            ]
          },
          "metadata": {
            "tags": []
          },
          "execution_count": 25
        }
      ]
    },
    {
      "cell_type": "code",
      "metadata": {
        "id": "cNDttWQx9e9F",
        "colab_type": "code",
        "colab": {
          "base_uri": "https://localhost:8080/",
          "height": 200
        },
        "outputId": "3a62eadd-06ea-45f2-d839-1c9db581275c"
      },
      "source": [
        "from sklearn.ensemble import RandomForestClassifier\n",
        "clf  =  RandomForestClassifier(n_estimators=300)\n",
        "#chọn model \n",
        "clf.fit(X_train, Y_train)\n",
        "#train dữ liệu, đưa vào model để lựa chọn ra công thức phù hợp"
      ],
      "execution_count": null,
      "outputs": [
        {
          "output_type": "stream",
          "text": [
            "/usr/local/lib/python3.6/dist-packages/ipykernel_launcher.py:4: DataConversionWarning: A column-vector y was passed when a 1d array was expected. Please change the shape of y to (n_samples,), for example using ravel().\n",
            "  after removing the cwd from sys.path.\n"
          ],
          "name": "stderr"
        },
        {
          "output_type": "execute_result",
          "data": {
            "text/plain": [
              "RandomForestClassifier(bootstrap=True, ccp_alpha=0.0, class_weight=None,\n",
              "                       criterion='gini', max_depth=None, max_features='auto',\n",
              "                       max_leaf_nodes=None, max_samples=None,\n",
              "                       min_impurity_decrease=0.0, min_impurity_split=None,\n",
              "                       min_samples_leaf=1, min_samples_split=2,\n",
              "                       min_weight_fraction_leaf=0.0, n_estimators=300,\n",
              "                       n_jobs=None, oob_score=False, random_state=None,\n",
              "                       verbose=0, warm_start=False)"
            ]
          },
          "metadata": {
            "tags": []
          },
          "execution_count": 26
        }
      ]
    },
    {
      "cell_type": "code",
      "metadata": {
        "id": "fOcZ4bDq9psn",
        "colab_type": "code",
        "colab": {}
      },
      "source": [
        "from sklearn.preprocessing import LabelEncoder,MinMaxScaler"
      ],
      "execution_count": null,
      "outputs": []
    },
    {
      "cell_type": "code",
      "metadata": {
        "id": "8eaQPNtn9qRP",
        "colab_type": "code",
        "colab": {
          "base_uri": "https://localhost:8080/",
          "height": 70
        },
        "outputId": "2a8e1dbd-832f-4bdd-821f-61c43d3cd585"
      },
      "source": [
        "le = LabelEncoder()\n",
        "y_result=le.fit_transform(Y_test)\n",
        "y_pred=clf.predict(X_test)"
      ],
      "execution_count": null,
      "outputs": [
        {
          "output_type": "stream",
          "text": [
            "/usr/local/lib/python3.6/dist-packages/sklearn/preprocessing/_label.py:251: DataConversionWarning: A column-vector y was passed when a 1d array was expected. Please change the shape of y to (n_samples, ), for example using ravel().\n",
            "  y = column_or_1d(y, warn=True)\n"
          ],
          "name": "stderr"
        }
      ]
    },
    {
      "cell_type": "markdown",
      "metadata": {
        "id": "Z8Wk2dOK8I4x",
        "colab_type": "text"
      },
      "source": [
        "IN ra kết quả so sánh"
      ]
    },
    {
      "cell_type": "code",
      "metadata": {
        "id": "5j0ZPb7V_2I8",
        "colab_type": "code",
        "colab": {
          "base_uri": "https://localhost:8080/",
          "height": 33
        },
        "outputId": "647682ac-a567-4174-d65f-d25198d7d744"
      },
      "source": [
        "print(\"Result: \", (y_pred == y_result).tolist().count(True)/len(y_result))"
      ],
      "execution_count": null,
      "outputs": [
        {
          "output_type": "stream",
          "text": [
            "Result:  0.610738255033557\n"
          ],
          "name": "stdout"
        }
      ]
    },
    {
      "cell_type": "code",
      "metadata": {
        "id": "66cPOjzyAqPD",
        "colab_type": "code",
        "colab": {
          "base_uri": "https://localhost:8080/",
          "height": 163
        },
        "outputId": "9921b0cc-37e4-4633-bcff-b086637b7649"
      },
      "source": [
        "from sklearn.metrics import classification_report\n",
        "print(classification_report(y_result,y_pred))"
      ],
      "execution_count": null,
      "outputs": [
        {
          "output_type": "stream",
          "text": [
            "              precision    recall  f1-score   support\n",
            "\n",
            "           0       0.58      0.75      0.65       938\n",
            "           1       0.67      0.48      0.56       999\n",
            "\n",
            "    accuracy                           0.61      1937\n",
            "   macro avg       0.62      0.62      0.61      1937\n",
            "weighted avg       0.63      0.61      0.60      1937\n",
            "\n"
          ],
          "name": "stdout"
        }
      ]
    },
    {
      "cell_type": "markdown",
      "metadata": {
        "id": "PdbzpLV68O5b",
        "colab_type": "text"
      },
      "source": [
        "Ta có:\n",
        "58% dự đoán 0 là đúng, 75% loại là \"0\" được dự đoán đúng\n",
        "\n",
        "67% dự đoán 1 là đúng, 48% loại là \"1\" được dự đoán đúng\n",
        "\n",
        "f1-score là độ chính xác model được tính theo công thức:\n",
        "\n",
        "f1=2 * ((precision*recall)/(precision+recall))"
      ]
    },
    {
      "cell_type": "markdown",
      "metadata": {
        "id": "ybwgQt_z8v2h",
        "colab_type": "text"
      },
      "source": [
        "# Đối chiếu performance của model trên dataset đã cho và trên 2000 headine mới"
      ]
    },
    {
      "cell_type": "markdown",
      "metadata": {
        "id": "o24iIXvu81qK",
        "colab_type": "text"
      },
      "source": [
        "Cho train và test với tập dữ liệu đã cho để so sánh với tập test trên 2000 headline mới"
      ]
    },
    {
      "cell_type": "code",
      "metadata": {
        "id": "pxCyWzTNh3Gi",
        "colab_type": "code",
        "colab": {
          "base_uri": "https://localhost:8080/",
          "height": 131
        },
        "outputId": "86ddbb75-7d92-4cfd-a6d0-8b25d95ed281"
      },
      "source": [
        "from sklearn.model_selection import train_test_split\n",
        "Y_train = df_1['is_sarcastic'].values\n",
        "Y_train = np.vstack(Y_train)\n",
        "\n",
        "X_train,X_test,Y_train,Y_test = train_test_split(X_train,Y_train,test_size=0.3, random_state = 42)\n",
        "print (X_train)"
      ],
      "execution_count": null,
      "outputs": [
        {
          "output_type": "stream",
          "text": [
            "[[   0    0    0 ...  647    2   22]\n",
            " [   0    0    0 ...  309   75  571]\n",
            " [   0    0    0 ...  218    7  824]\n",
            " ...\n",
            " [   0    0    0 ...  105    9  363]\n",
            " [   0    0    0 ...    5    2 1127]\n",
            " [   0    0    0 ... 1663   22    3]]\n"
          ],
          "name": "stdout"
        }
      ]
    },
    {
      "cell_type": "code",
      "metadata": {
        "id": "r3_U88yNjbqn",
        "colab_type": "code",
        "colab": {
          "base_uri": "https://localhost:8080/",
          "height": 33
        },
        "outputId": "b0391009-a153-41cf-c89f-f59e79222fd3"
      },
      "source": [
        "len(X_test)"
      ],
      "execution_count": null,
      "outputs": [
        {
          "output_type": "execute_result",
          "data": {
            "text/plain": [
              "8013"
            ]
          },
          "metadata": {
            "tags": []
          },
          "execution_count": 32
        }
      ]
    },
    {
      "cell_type": "code",
      "metadata": {
        "id": "_7N6BPS_jcS3",
        "colab_type": "code",
        "colab": {
          "base_uri": "https://localhost:8080/",
          "height": 200
        },
        "outputId": "a866390c-1d2d-46f1-ffe4-2f23c9100724"
      },
      "source": [
        "from sklearn.ensemble import RandomForestClassifier\n",
        "clf  =  RandomForestClassifier(n_estimators=300)\n",
        "#chọn model \n",
        "clf.fit(X_train, Y_train)\n",
        "#train dữ liệu\n",
        "\n"
      ],
      "execution_count": null,
      "outputs": [
        {
          "output_type": "stream",
          "text": [
            "/usr/local/lib/python3.6/dist-packages/ipykernel_launcher.py:4: DataConversionWarning: A column-vector y was passed when a 1d array was expected. Please change the shape of y to (n_samples,), for example using ravel().\n",
            "  after removing the cwd from sys.path.\n"
          ],
          "name": "stderr"
        },
        {
          "output_type": "execute_result",
          "data": {
            "text/plain": [
              "RandomForestClassifier(bootstrap=True, ccp_alpha=0.0, class_weight=None,\n",
              "                       criterion='gini', max_depth=None, max_features='auto',\n",
              "                       max_leaf_nodes=None, max_samples=None,\n",
              "                       min_impurity_decrease=0.0, min_impurity_split=None,\n",
              "                       min_samples_leaf=1, min_samples_split=2,\n",
              "                       min_weight_fraction_leaf=0.0, n_estimators=300,\n",
              "                       n_jobs=None, oob_score=False, random_state=None,\n",
              "                       verbose=0, warm_start=False)"
            ]
          },
          "metadata": {
            "tags": []
          },
          "execution_count": 33
        }
      ]
    },
    {
      "cell_type": "code",
      "metadata": {
        "id": "sI1LQPbvjnpm",
        "colab_type": "code",
        "colab": {}
      },
      "source": [
        "from sklearn.preprocessing import LabelEncoder,MinMaxScaler"
      ],
      "execution_count": null,
      "outputs": []
    },
    {
      "cell_type": "code",
      "metadata": {
        "id": "153r8zO7jtA9",
        "colab_type": "code",
        "colab": {
          "base_uri": "https://localhost:8080/",
          "height": 70
        },
        "outputId": "9985e751-baaf-41ec-c2a9-a00a050f5e88"
      },
      "source": [
        "le = LabelEncoder()\n",
        "y_result=le.fit_transform(Y_test)\n",
        "y_pred=clf.predict(X_test)"
      ],
      "execution_count": null,
      "outputs": [
        {
          "output_type": "stream",
          "text": [
            "/usr/local/lib/python3.6/dist-packages/sklearn/preprocessing/_label.py:251: DataConversionWarning: A column-vector y was passed when a 1d array was expected. Please change the shape of y to (n_samples, ), for example using ravel().\n",
            "  y = column_or_1d(y, warn=True)\n"
          ],
          "name": "stderr"
        }
      ]
    },
    {
      "cell_type": "markdown",
      "metadata": {
        "id": "J6oE75cv9KgY",
        "colab_type": "text"
      },
      "source": [
        "in ra kết quả và đối chiếu "
      ]
    },
    {
      "cell_type": "code",
      "metadata": {
        "id": "VtJsMuMSj3et",
        "colab_type": "code",
        "colab": {
          "base_uri": "https://localhost:8080/",
          "height": 33
        },
        "outputId": "ec6a3ebd-c028-4f24-ff42-1d95f86568ea"
      },
      "source": [
        "print(\"Result: \", (y_pred == y_result).tolist().count(True)/len(y_result))"
      ],
      "execution_count": null,
      "outputs": [
        {
          "output_type": "stream",
          "text": [
            "Result:  0.6558093098714589\n"
          ],
          "name": "stdout"
        }
      ]
    },
    {
      "cell_type": "markdown",
      "metadata": {
        "id": "OdqG-kjmqmDR",
        "colab_type": "text"
      },
      "source": [
        "Đối chiếu performance của model trên dataset đã cho và trên 2000 headine mới ta thấy có sự chênh lệch, 0.61 và 0.66. Performance khi chạy trên dataset cao hơn(0.66), còn khi chạy trên 2000 headline mới thì thấp hơn\n",
        "\n",
        "Nhận xét: khi được test trên 2000 headline mới không nằm trong bộ dữ liệu, kết quả đưa ra thấp hơn so mới kết quả mà model đã train"
      ]
    },
    {
      "cell_type": "markdown",
      "metadata": {
        "id": "YIxihrHa9-DM",
        "colab_type": "text"
      },
      "source": [
        "## Sacarsm detection cho một headline bất kỳ được nhập vào"
      ]
    },
    {
      "cell_type": "code",
      "metadata": {
        "id": "ohWXeVGxyQo_",
        "colab_type": "code",
        "colab": {
          "base_uri": "https://localhost:8080/",
          "height": 33
        },
        "outputId": "6dc371d0-bb7e-4457-b88c-4f1a4f988a07"
      },
      "source": [
        "str1 = str(input(\"Nhap chuoi: \"))"
      ],
      "execution_count": null,
      "outputs": [
        {
          "output_type": "stream",
          "text": [
            "Nhap chuoi: i am very happy hihi\n"
          ],
          "name": "stdout"
        }
      ]
    },
    {
      "cell_type": "markdown",
      "metadata": {
        "id": "KRMnq94F-IDm",
        "colab_type": "text"
      },
      "source": [
        "Xử lí dữ liệu"
      ]
    },
    {
      "cell_type": "code",
      "metadata": {
        "id": "qJ1IBcQlyaws",
        "colab_type": "code",
        "colab": {}
      },
      "source": [
        "test =[]\n",
        "clean = str1.translate(str.maketrans('', '', punctuation))\n",
        "clean = clean.translate(str.maketrans('', '', digits))\n",
        "test.append(clean)\n",
        "\n",
        "testn=[]\n",
        "for i in test:\n",
        "    i = i.split()\n",
        "    testn.append(i)\n",
        "\n",
        "testn_1 = []\n",
        "for i in testn:\n",
        "    lemm = [lemmatizer.lemmatize(w, get_wordnet_pos(w)) for w in i]\n",
        "    testn_1.append(lemm)\n",
        "\n",
        "max_features = 2000\n",
        "max_token = len(hl_lemmatized_1)\n",
        "tokenizer = Tokenizer (num_words= max_features)\n",
        "tokenizer.fit_on_texts(testn_1)\n",
        "sequences = tokenizer.texts_to_sequences(testn_1)\n",
        "X_test_1 = pad_sequences(sequences, maxlen = max_token)"
      ],
      "execution_count": null,
      "outputs": []
    },
    {
      "cell_type": "markdown",
      "metadata": {
        "id": "UUdbYVLX-N5d",
        "colab_type": "text"
      },
      "source": [
        "So sánh và đưa ra kết quả xem đó là tiêu đề châm biếm hay chính thống"
      ]
    },
    {
      "cell_type": "code",
      "metadata": {
        "id": "7EtIsSv6mw35",
        "colab_type": "code",
        "colab": {
          "base_uri": "https://localhost:8080/",
          "height": 33
        },
        "outputId": "4c44a2e1-32fa-4287-8007-ef26e2cae7b0"
      },
      "source": [
        "y_pred=clf.predict(X_test_1)\n",
        "kq = y_pred[0]\n",
        "if (kq != 0):\n",
        "  print(\"Not sarcasm\")\n",
        "else:\n",
        "  print(\"Sarcasm\")"
      ],
      "execution_count": null,
      "outputs": [
        {
          "output_type": "stream",
          "text": [
            "Sarcasm\n"
          ],
          "name": "stdout"
        }
      ]
    },
    {
      "cell_type": "markdown",
      "metadata": {
        "id": "-N9r_P8R9GHH",
        "colab_type": "text"
      },
      "source": [
        "**save model với pickle**\n"
      ]
    },
    {
      "cell_type": "code",
      "metadata": {
        "id": "2xdQrjh489gi",
        "colab_type": "code",
        "colab": {}
      },
      "source": [
        "import pickle \n",
        "pickle.dump(clf,open('/content/drive/My Drive/Colab Notebooks/pickle/pickle.docx', 'wb'))\n"
      ],
      "execution_count": null,
      "outputs": []
    },
    {
      "cell_type": "markdown",
      "metadata": {
        "id": "d5ZGpEfO_wES",
        "colab_type": "text"
      },
      "source": [
        "## Nhận xét về bài toán:\n",
        "\n",
        "Bài toán được đưa ra rất hay, có dataset thu thập dễ dàng. Tuy nhiên độ chính xác chưa được cao. Bài toán có thể mở rộng ra rất nhiều vấn đề trong thực tế, áp dụng được vào nhiều lĩnh vực trong tương lai, nhất là trong truyền thông khi có thể nhanh chóng phát ra các loại tin tức giả, xác minh tin tức chính thống"
      ]
    }
  ]
}